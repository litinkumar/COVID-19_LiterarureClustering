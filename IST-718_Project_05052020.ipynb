{
 "cells": [
  {
   "cell_type": "markdown",
   "metadata": {},
   "source": [
    "<div style=\"display:block\">\n",
    "    <div style=\"width: 20%; display: inline-block; text-align: left;\">\n",
    "        <img src=\"https://styleguide.ischool.syr.edu/assets/logos/block/iSchoolBlock-OutlineswithSyracuseUniversity_Orange.png\" style=\"height:75px; margin-left:0px\" />\n",
    "    </div>\n",
    "    <div style=\"width: 59%; display: inline-block\">\n",
    "        <h1  style=\"text-align: center\">COVID-19 Literature Clustering</h1>\n",
    "        <div style=\"width: 100%; text-align: center; display: inline-block;\"><i>Group-2:</i> <strong>Litin, Nikita, Hua, Meena</strong> </div>\n",
    "    </div>\n",
    "    <div style=\"width: 20%; text-align: right; display: inline-block;\">\n",
    "        <div style=\"width: 100%; text-align: left; display: inline-block;\">\n",
    "            <i>Created: </i>\n",
    "            <time datetime=\"2016-08-19\" pubdate>April 18th, 2020</time>\n",
    "        </div>\n",
    "        <div style=\"width: 100%; text-align: left; display: inline-block;\">\n",
    "            <i>Modified: </i>\n",
    "            <time datetime=\"2016-08-19\" pubdate>May 05th, 2020</time>\n",
    "        </div>\n",
    "    </div>\n",
    "</div>"
   ]
  },
  {
   "cell_type": "markdown",
   "metadata": {},
   "source": [
    "## Introduction"
   ]
  },
  {
   "cell_type": "markdown",
   "metadata": {},
   "source": [
    "Given the large number of literature and the rapid spread of COVID-19, it is difficult for health professionals to keep up with new information on the virus. We believe clustering similar research articles together simplify the search for related publications.\n",
    "\n",
    "This is a difficult time in which health care workers, sanitation staff, and many other essential personnel are out there keeping the world afloat. While adhering to quarantine protocol, the Kaggle CORD-19 dataset has given us an opportunity to help in the best way we can as computer science students. \n",
    "\n",
    "It should be noted, however, that we are not epidemiologists, and it is not our place to gauge the importance of these papers. This tool was created to help make it easier for trained professionals to sift through many, many publications related to the virus, and find their own determinations."
   ]
  },
  {
   "cell_type": "markdown",
   "metadata": {},
   "source": [
    "## Problem Statement"
   ]
  },
  {
   "cell_type": "markdown",
   "metadata": {},
   "source": [
    "The main objective of this notebook is to cluster similar research articles together simplofy the search for related publiations. By using clustering for labelling in combination with dimensionality reduction for visualization, the collection of literature can be represented by a scatter plot. On this plot, publications of highly similar topic will share a label and will be plotted near each other. In order, to find meaning in the clusters, topic modelling will be performed to find the keywords of each cluster."
   ]
  },
  {
   "cell_type": "markdown",
   "metadata": {},
   "source": [
    "## Solution Approach"
   ]
  },
  {
   "cell_type": "markdown",
   "metadata": {},
   "source": [
    "1.\tData pre-processing: to get a clean dataset by treating NAs, duplicates etc.\n",
    "2.\tText Preprocessing: the preprocessing step usually consists of the tasks such as tokenization and filtering out stop words and vectorization\n",
    "3.\tTF-IDF: by using the TF-IDF weight, the document search can deliver results that are most relevant to what is searched for\n",
    "4.\tClustering: we use k-means clustering to partition n documents in the context of text data into k clusters. representative around which the clusters are built\n",
    "5.\tDimensionality reduction: this is done using PCA to obtain optimal number of components that capture the greatest amount of variance\n",
    "6.\tTopic Modeling: using LDA (Latent Dirichlet Allocation) for mapping a specific article into the topic space, we can then find related articles\n",
    "7.\tClassification: build three classification models that can be used for recommending similar literatures\n"
   ]
  },
  {
   "cell_type": "markdown",
   "metadata": {},
   "source": [
    "## Table of contents"
   ]
  },
  {
   "cell_type": "markdown",
   "metadata": {},
   "source": [
    "1. Loading the data\n",
    "2. Pre-processing\n",
    "3. Vectorization\n",
    "4. PCA  & Clustering\n",
    "5. Topic Modeling usin LDA\n",
    "6. Supervised Learning-Classification\n",
    "7. Conclusion\n",
    "8. Appendix"
   ]
  },
  {
   "cell_type": "markdown",
   "metadata": {},
   "source": [
    "## Loading the data"
   ]
  },
  {
   "cell_type": "code",
   "execution_count": 52,
   "metadata": {},
   "outputs": [],
   "source": [
    "#Loading the necessary libraries\n",
    "import os\n",
    "import findspark\n",
    "findspark.init()\n",
    "import pyspark # only run after findspark.init()\n",
    "from pyspark.mllib.stat import Statistics\n",
    "from pyspark.sql.functions import count,when,isnan,col,sum,isnull,corr,log,mean,exp\n",
    "from pyspark.ml import feature\n",
    "from pyspark.ml import classification,regression\n",
    "from pyspark.ml import Pipeline\n",
    "from pyspark.ml.evaluation import BinaryClassificationEvaluator, \\\n",
    "    MulticlassClassificationEvaluator, \\\n",
    "    RegressionEvaluator\n",
    "from pyspark.ml.tuning import CrossValidator, ParamGridBuilder\n",
    "# create spark and sparkcontext objects\n",
    "from pyspark.sql import SparkSession\n",
    "from pyspark.sql import Window\n",
    "from pyspark.sql import Row\n",
    "from pyspark.sql.functions import lit\n",
    "from pyspark.sql import functions as F\n",
    "from pyspark.sql.types import (\n",
    "    ArrayType,\n",
    "    IntegerType,\n",
    "    MapType,\n",
    "    StringType,\n",
    "    StructField,\n",
    "    StructType,\n",
    "    FloatType,\n",
    "    DoubleType\n",
    ")\n",
    "import glob\n",
    "import json\n",
    "from pathlib import Path\n",
    "import string\n",
    "import spacy\n",
    "from spacy.lang.en.stop_words import STOP_WORDS\n",
    "from pyspark.ml.feature import RegexTokenizer, StopWordsRemover, CountVectorizer,OneHotEncoder, StringIndexer, VectorAssembler, IDF\n",
    "from pyspark.ml.classification import LogisticRegression\n",
    "from pyspark.ml.feature import PCA\n",
    "from pyspark.ml.clustering import KMeans\n",
    "from pyspark.ml import Pipeline\n",
    "import numpy as np\n",
    "from pyspark.ml.clustering import KMeans\n",
    "import pandas as pd\n",
    "import pylab as pl\n",
    "from pyspark.ml.clustering import LDA\n",
    "import seaborn as sns\n",
    "import matplotlib.pyplot as plt\n",
    "from pyspark.ml.classification import LogisticRegression, DecisionTreeClassifier, RandomForestClassifier, MultilayerPerceptronClassifier"
   ]
  },
  {
   "cell_type": "markdown",
   "metadata": {},
   "source": [
    "### Defining the data schema "
   ]
  },
  {
   "cell_type": "code",
   "execution_count": 8,
   "metadata": {},
   "outputs": [],
   "source": [
    "def generate_cord19_schema():\n",
    "    return StructType(\n",
    "        [\n",
    "            StructField(\"paper_id\", StringType()),\n",
    "            StructField(\"metadata\", StringType()),\n",
    "            StructField(\"abstract\", StringType()),\n",
    "            StructField(\"body_text\", StringType()),\n",
    "            StructField(\"bib_entries\", StringType()),\n",
    "            StructField(\"ref_entries\", StringType()),\n",
    "            StructField(\"back_matter\", StringType()),\n",
    "        ]\n",
    "    )"
   ]
  },
  {
   "cell_type": "markdown",
   "metadata": {},
   "source": [
    "### Loading all the JSONs (each file is a journal) in the directory"
   ]
  },
  {
   "cell_type": "code",
   "execution_count": 9,
   "metadata": {},
   "outputs": [
    {
     "name": "stdout",
     "output_type": "stream",
     "text": [
      "There are  25358 sources files.\n"
     ]
    }
   ],
   "source": [
    "root_path = Path('/Users/litinkumar/IST718_Data/CORD-19-research-challenge')\n",
    "all_json = glob.glob( str(root_path) + '/**/*.json', recursive=True)\n",
    "print(\"There are \", len(all_json), \"sources files.\")"
   ]
  },
  {
   "cell_type": "code",
   "execution_count": 11,
   "metadata": {},
   "outputs": [],
   "source": [
    "#Creating a spark session\n",
    "spark = (\n",
    "    SparkSession.builder.appName(\"covid\")\n",
    "    .master(\"local[*]\")\n",
    "    .config(\"spark.driver.memory\", \"16g\")\n",
    "    .config(\"spark.executor.memory\", \"16g\")\n",
    "    .config(\"spark.driver.maxResultSize\", \"4g\")\n",
    "    .getOrCreate()\n",
    ")\n",
    "sc = spark.sparkContext"
   ]
  },
  {
   "cell_type": "code",
   "execution_count": 12,
   "metadata": {},
   "outputs": [
    {
     "name": "stdout",
     "output_type": "stream",
     "text": [
      "root\n",
      " |-- paper_id: string (nullable = true)\n",
      " |-- metadata: string (nullable = true)\n",
      " |-- abstract: string (nullable = true)\n",
      " |-- body_text: string (nullable = true)\n",
      " |-- bib_entries: string (nullable = true)\n",
      " |-- ref_entries: string (nullable = true)\n",
      " |-- back_matter: string (nullable = true)\n",
      "\n"
     ]
    }
   ],
   "source": [
    "#Takes a lot of time careful !!!!!!\n",
    "#Reading the json files into spark\n",
    "data = spark.read.json(all_json,schema=generate_cord19_schema(),multiLine=True)\n",
    "data.printSchema()"
   ]
  },
  {
   "cell_type": "markdown",
   "metadata": {},
   "source": [
    "### Loading the metadata (provided with the dataset)"
   ]
  },
  {
   "cell_type": "code",
   "execution_count": 13,
   "metadata": {},
   "outputs": [],
   "source": [
    "metadata = spark.read.csv('/Users/litinkumar/IST718_Data/CORD-19-research-challenge/metadata.csv', header=True)"
   ]
  },
  {
   "cell_type": "code",
   "execution_count": 14,
   "metadata": {},
   "outputs": [],
   "source": [
    "data = data.select(\"paper_id\",\"body_text\")"
   ]
  },
  {
   "cell_type": "markdown",
   "metadata": {},
   "source": [
    "### Merging the JSON data with the Metadata"
   ]
  },
  {
   "cell_type": "code",
   "execution_count": 15,
   "metadata": {},
   "outputs": [],
   "source": [
    "Merged_df = data.join(metadata, data.paper_id == metadata.sha, how='left').select(data['*'],metadata[\"*\"])"
   ]
  },
  {
   "cell_type": "code",
   "execution_count": 16,
   "metadata": {},
   "outputs": [
    {
     "name": "stdout",
     "output_type": "stream",
     "text": [
      "root\n",
      " |-- paper_id: string (nullable = true)\n",
      " |-- body_text: string (nullable = true)\n",
      " |-- cord_uid: string (nullable = true)\n",
      " |-- sha: string (nullable = true)\n",
      " |-- source_x: string (nullable = true)\n",
      " |-- title: string (nullable = true)\n",
      " |-- doi: string (nullable = true)\n",
      " |-- pmcid: string (nullable = true)\n",
      " |-- pubmed_id: string (nullable = true)\n",
      " |-- license: string (nullable = true)\n",
      " |-- abstract: string (nullable = true)\n",
      " |-- publish_time: string (nullable = true)\n",
      " |-- authors: string (nullable = true)\n",
      " |-- journal: string (nullable = true)\n",
      " |-- Microsoft Academic Paper ID: string (nullable = true)\n",
      " |-- WHO #Covidence: string (nullable = true)\n",
      " |-- has_pdf_parse: string (nullable = true)\n",
      " |-- has_pmc_xml_parse: string (nullable = true)\n",
      " |-- full_text_file: string (nullable = true)\n",
      " |-- url: string (nullable = true)\n",
      " |-- abstract_word_count: integer (nullable = false)\n",
      " |-- body_word_count: integer (nullable = false)\n",
      "\n"
     ]
    }
   ],
   "source": [
    "#Creating additional features in the dataset\n",
    "Merged_df=Merged_df.withColumn('abstract_word_count', F.size(F.split(F.col('abstract'), ' ')))# word count in abstract\n",
    "Merged_df=Merged_df.withColumn('body_word_count', F.size(F.split(F.col('body_text'), ' '))) # word count in body\n",
    "Merged_df.printSchema()"
   ]
  },
  {
   "cell_type": "markdown",
   "metadata": {},
   "source": [
    "# Analysis "
   ]
  },
  {
   "cell_type": "markdown",
   "metadata": {},
   "source": [
    "### Sampling the data "
   ]
  },
  {
   "cell_type": "code",
   "execution_count": 17,
   "metadata": {},
   "outputs": [],
   "source": [
    "#Since the dataset is huge we create a sample of our population data\n",
    "Sampled_df=Merged_df.sample(False,0.35,42)"
   ]
  },
  {
   "cell_type": "markdown",
   "metadata": {},
   "source": [
    "### Dropping the NAs "
   ]
  },
  {
   "cell_type": "code",
   "execution_count": 18,
   "metadata": {},
   "outputs": [
    {
     "data": {
      "text/plain": [
       "DataFrame[paper_id: string, body_text: string, cord_uid: string, sha: string, source_x: string, title: string, doi: string, pmcid: string, pubmed_id: string, license: string, abstract: string, publish_time: string, authors: string, journal: string, Microsoft Academic Paper ID: string, WHO #Covidence: string, has_pdf_parse: string, has_pmc_xml_parse: string, full_text_file: string, url: string, abstract_word_count: int, body_word_count: int]"
      ]
     },
     "execution_count": 18,
     "metadata": {},
     "output_type": "execute_result"
    }
   ],
   "source": [
    "#df.na.drop()\n",
    "Sampled_df.dropna()"
   ]
  },
  {
   "cell_type": "markdown",
   "metadata": {},
   "source": [
    "### Stopwords treatment "
   ]
  },
  {
   "cell_type": "code",
   "execution_count": 19,
   "metadata": {},
   "outputs": [
    {
     "data": {
      "text/plain": [
       "['nowhere',\n",
       " 'did',\n",
       " 'enough',\n",
       " 'almost',\n",
       " 'us',\n",
       " 'whereupon',\n",
       " 'also',\n",
       " 'wherever',\n",
       " 'front',\n",
       " 'whenever']"
      ]
     },
     "execution_count": 19,
     "metadata": {},
     "output_type": "execute_result"
    }
   ],
   "source": [
    "# Stopwords\n",
    "# Part of the preprocessing will be finding and removing stopwords (common words that will act as noise in the clustering step).\n",
    "punctuations = string.punctuation\n",
    "stopwords = list(STOP_WORDS)\n",
    "stopwords[:10]"
   ]
  },
  {
   "cell_type": "markdown",
   "metadata": {},
   "source": [
    "#### Additional custom stopwords"
   ]
  },
  {
   "cell_type": "code",
   "execution_count": 20,
   "metadata": {},
   "outputs": [],
   "source": [
    "custom_stop_words = [\n",
    "    'doi', 'preprint', 'copyright', 'peer', 'reviewed', 'org', 'https', 'et', 'al', 'author', 'figure', \n",
    "    'rights', 'reserved', 'permission', 'used', 'using', 'biorxiv', 'medrxiv', 'license', 'fig', 'fig.', \n",
    "    'al.', 'Elsevier', 'PMC', 'CZI', 'www'\n",
    "]\n",
    "\n",
    "for w in custom_stop_words:\n",
    "    if w not in stopwords:\n",
    "        stopwords.append(w)"
   ]
  },
  {
   "cell_type": "markdown",
   "metadata": {},
   "source": [
    "### Pipeline "
   ]
  },
  {
   "cell_type": "code",
   "execution_count": 21,
   "metadata": {},
   "outputs": [],
   "source": [
    "#Pipeline components\n",
    "\n",
    "# regular expression tokenizer\n",
    "regexTokenizer = RegexTokenizer(inputCol=\"body_text\", outputCol=\"body_text_tokenized\", pattern=\"\\\\W\")\n",
    "# stop words\n",
    "#stopwordsRemover = [\"http\",\"https\",\"amp\",\"rt\",\"t\",\"c\",\"the\"] \n",
    "stopwordsRemover = StopWordsRemover(inputCol=\"body_text_tokenized\", outputCol=\"filtered\").setStopWords(stopwords)\n",
    "# bag of words count\n",
    "countVectors = CountVectorizer(inputCol=\"filtered\", outputCol=\"tf\", vocabSize=2**8, minDF=5)\n",
    "#StringIndexer\n",
    "label_stringIdx = StringIndexer(inputCol = \"body_text\", outputCol = \"features\")\n",
    "#idf\n",
    "idf = IDF().setInputCol('tf').setOutputCol('tfidf')\n",
    "#Centering the tfidf\n",
    "center = feature.StandardScaler(withMean=True, withStd=False, inputCol='tfidf', outputCol='centered_tfidf')\n",
    "#pca\n",
    "pca=PCA(k=3, inputCol=\"centered_tfidf\", outputCol=\"PCA_Scores\")\n",
    "#norm\n",
    "norm = feature.Normalizer(inputCol=\"centered_tfidf\", outputCol=\"norm_tfidf\", p=2.0)\n",
    "#kmeans\n",
    "kmeans = KMeans().setK(6).setSeed(1).setFeaturesCol('norm_tfidf')\n",
    "#lda\n",
    "lda = LDA().setK(6).setSeed(1).setFeaturesCol('tfidf').setTopicDistributionCol('lda_feat')"
   ]
  },
  {
   "cell_type": "code",
   "execution_count": 25,
   "metadata": {},
   "outputs": [],
   "source": [
    "#Creating the pipeline and fitting the data into it\n",
    "pipeline_1 = Pipeline(stages=[regexTokenizer, stopwordsRemover, countVectors, label_stringIdx,idf,center,pca,norm,kmeans,lda])\n",
    "\n",
    "# Fit the pipeline to training documents.\n",
    "pipelineFit_1 = pipeline_1.fit(Sampled_df)\n",
    "kmeans_df = pipelineFit_1.transform(Sampled_df)"
   ]
  },
  {
   "cell_type": "markdown",
   "metadata": {},
   "source": [
    "## Run after number of clusters are known "
   ]
  },
  {
   "cell_type": "code",
   "execution_count": 26,
   "metadata": {},
   "outputs": [
    {
     "name": "stdout",
     "output_type": "stream",
     "text": [
      "root\n",
      " |-- paper_id: string (nullable = true)\n",
      " |-- body_text: string (nullable = true)\n",
      " |-- cord_uid: string (nullable = true)\n",
      " |-- sha: string (nullable = true)\n",
      " |-- source_x: string (nullable = true)\n",
      " |-- title: string (nullable = true)\n",
      " |-- doi: string (nullable = true)\n",
      " |-- pmcid: string (nullable = true)\n",
      " |-- pubmed_id: string (nullable = true)\n",
      " |-- license: string (nullable = true)\n",
      " |-- abstract: string (nullable = true)\n",
      " |-- publish_time: string (nullable = true)\n",
      " |-- authors: string (nullable = true)\n",
      " |-- journal: string (nullable = true)\n",
      " |-- Microsoft Academic Paper ID: string (nullable = true)\n",
      " |-- WHO #Covidence: string (nullable = true)\n",
      " |-- has_pdf_parse: string (nullable = true)\n",
      " |-- has_pmc_xml_parse: string (nullable = true)\n",
      " |-- full_text_file: string (nullable = true)\n",
      " |-- url: string (nullable = true)\n",
      " |-- abstract_word_count: integer (nullable = false)\n",
      " |-- body_word_count: integer (nullable = false)\n",
      " |-- body_text_tokenized: array (nullable = true)\n",
      " |    |-- element: string (containsNull = true)\n",
      " |-- filtered: array (nullable = true)\n",
      " |    |-- element: string (containsNull = true)\n",
      " |-- tf: vector (nullable = true)\n",
      " |-- features: double (nullable = false)\n",
      " |-- tfidf: vector (nullable = true)\n",
      " |-- centered_tfidf: vector (nullable = true)\n",
      " |-- PCA_Scores: vector (nullable = true)\n",
      " |-- norm_tfidf: vector (nullable = true)\n",
      " |-- prediction: integer (nullable = false)\n",
      " |-- lda_feat: vector (nullable = true)\n",
      "\n"
     ]
    }
   ],
   "source": [
    "kmeans_df.printSchema()"
   ]
  },
  {
   "cell_type": "code",
   "execution_count": 27,
   "metadata": {},
   "outputs": [],
   "source": [
    "kmeans_subset=kmeans_df.select('PCA_Scores','prediction')\n",
    "kmeans_pd=kmeans_subset.toPandas()"
   ]
  },
  {
   "cell_type": "code",
   "execution_count": 28,
   "metadata": {},
   "outputs": [],
   "source": [
    "def pca_pred_df(df):\n",
    "    pca_1=[]\n",
    "    pca_2=[]\n",
    "    pca_3=[]\n",
    "    for i in range(len(kmeans_pd)):\n",
    "        x = df['PCA_Scores'][i][0]\n",
    "        y = df['PCA_Scores'][i][1]\n",
    "        z = df['PCA_Scores'][i][2]\n",
    "        prediction = df['prediction']\n",
    "        pca_1.append(x)\n",
    "        pca_2.append(y)\n",
    "        pca_3.append(z)\n",
    "    dict = {'pca1': pca_1, 'pca2': pca_2, 'pca3' : pca_3, 'prediction' : prediction}\n",
    "    final_df = pd.DataFrame(dict)\n",
    "    return final_df"
   ]
  },
  {
   "cell_type": "markdown",
   "metadata": {},
   "source": [
    "### Creating a Scatterplot from the PCAs"
   ]
  },
  {
   "cell_type": "code",
   "execution_count": 29,
   "metadata": {},
   "outputs": [],
   "source": [
    "kmeans_pd_2 = pca_pred_df(kmeans_pd)\n",
    "kmeans_pd_scatter=kmeans_pd_2\n",
    "kmeans_pd_scatter['prediction']=kmeans_pd_scatter['prediction'].astype('category')"
   ]
  },
  {
   "cell_type": "code",
   "execution_count": 121,
   "metadata": {},
   "outputs": [
    {
     "data": {
      "text/html": [
       "<div>\n",
       "<style scoped>\n",
       "    .dataframe tbody tr th:only-of-type {\n",
       "        vertical-align: middle;\n",
       "    }\n",
       "\n",
       "    .dataframe tbody tr th {\n",
       "        vertical-align: top;\n",
       "    }\n",
       "\n",
       "    .dataframe thead th {\n",
       "        text-align: right;\n",
       "    }\n",
       "</style>\n",
       "<table border=\"1\" class=\"dataframe\">\n",
       "  <thead>\n",
       "    <tr style=\"text-align: right;\">\n",
       "      <th></th>\n",
       "      <th>pca1</th>\n",
       "      <th>pca2</th>\n",
       "      <th>pca3</th>\n",
       "      <th>prediction</th>\n",
       "    </tr>\n",
       "  </thead>\n",
       "  <tbody>\n",
       "    <tr>\n",
       "      <th>0</th>\n",
       "      <td>-3.412142</td>\n",
       "      <td>20.697003</td>\n",
       "      <td>-9.691759</td>\n",
       "      <td>4</td>\n",
       "    </tr>\n",
       "    <tr>\n",
       "      <th>1</th>\n",
       "      <td>-16.903866</td>\n",
       "      <td>5675.062900</td>\n",
       "      <td>-40.255950</td>\n",
       "      <td>0</td>\n",
       "    </tr>\n",
       "    <tr>\n",
       "      <th>2</th>\n",
       "      <td>-2.957218</td>\n",
       "      <td>16.342446</td>\n",
       "      <td>-46.410420</td>\n",
       "      <td>1</td>\n",
       "    </tr>\n",
       "    <tr>\n",
       "      <th>3</th>\n",
       "      <td>-44.874601</td>\n",
       "      <td>5389.235806</td>\n",
       "      <td>48.205018</td>\n",
       "      <td>0</td>\n",
       "    </tr>\n",
       "    <tr>\n",
       "      <th>4</th>\n",
       "      <td>0.927322</td>\n",
       "      <td>93.260376</td>\n",
       "      <td>-47.898408</td>\n",
       "      <td>0</td>\n",
       "    </tr>\n",
       "    <tr>\n",
       "      <th>5</th>\n",
       "      <td>-10.169323</td>\n",
       "      <td>6900.052435</td>\n",
       "      <td>54.419166</td>\n",
       "      <td>0</td>\n",
       "    </tr>\n",
       "    <tr>\n",
       "      <th>6</th>\n",
       "      <td>-16.789179</td>\n",
       "      <td>6122.783281</td>\n",
       "      <td>121.948535</td>\n",
       "      <td>0</td>\n",
       "    </tr>\n",
       "    <tr>\n",
       "      <th>7</th>\n",
       "      <td>7.980282</td>\n",
       "      <td>105.611877</td>\n",
       "      <td>-44.038078</td>\n",
       "      <td>0</td>\n",
       "    </tr>\n",
       "    <tr>\n",
       "      <th>8</th>\n",
       "      <td>8.377556</td>\n",
       "      <td>-2.088149</td>\n",
       "      <td>-1.184228</td>\n",
       "      <td>4</td>\n",
       "    </tr>\n",
       "    <tr>\n",
       "      <th>9</th>\n",
       "      <td>6.678131</td>\n",
       "      <td>5538.988806</td>\n",
       "      <td>96.403374</td>\n",
       "      <td>0</td>\n",
       "    </tr>\n",
       "  </tbody>\n",
       "</table>\n",
       "</div>"
      ],
      "text/plain": [
       "        pca1         pca2        pca3 prediction\n",
       "0  -3.412142    20.697003   -9.691759          4\n",
       "1 -16.903866  5675.062900  -40.255950          0\n",
       "2  -2.957218    16.342446  -46.410420          1\n",
       "3 -44.874601  5389.235806   48.205018          0\n",
       "4   0.927322    93.260376  -47.898408          0\n",
       "5 -10.169323  6900.052435   54.419166          0\n",
       "6 -16.789179  6122.783281  121.948535          0\n",
       "7   7.980282   105.611877  -44.038078          0\n",
       "8   8.377556    -2.088149   -1.184228          4\n",
       "9   6.678131  5538.988806   96.403374          0"
      ]
     },
     "execution_count": 121,
     "metadata": {},
     "output_type": "execute_result"
    }
   ],
   "source": [
    "kmeans_pd_2.head(10)"
   ]
  },
  {
   "cell_type": "code",
   "execution_count": 122,
   "metadata": {},
   "outputs": [
    {
     "data": {
      "text/plain": [
       "(-100.0, 100.0)"
      ]
     },
     "execution_count": 122,
     "metadata": {},
     "output_type": "execute_result"
    },
    {
     "data": {
      "image/png": "[encoded data removed]",
      "text/plain": [
       "<Figure size 432x288 with 1 Axes>"
      ]
     },
     "metadata": {
      "needs_background": "light"
     },
     "output_type": "display_data"
    }
   ],
   "source": [
    "#Creating an empty plot space\n",
    "fig = plt.figure()\n",
    "ax = plt.axes(projection='3d')\n",
    "ax.set_xlim3d(-100, 50)\n",
    "ax.set_ylim3d(-100,500)\n",
    "ax.set_zlim3d(-100,100)"
   ]
  },
  {
   "cell_type": "code",
   "execution_count": 123,
   "metadata": {},
   "outputs": [
    {
     "data": {
      "image/png": "[encoded data removed]",
      "text/plain": [
       "<Figure size 432x288 with 1 Axes>"
      ]
     },
     "execution_count": 123,
     "metadata": {},
     "output_type": "execute_result"
    }
   ],
   "source": [
    "#Creating a Scatterplot\n",
    "img=ax.scatter3D(kmeans_pd_scatter.pca1, kmeans_pd_scatter.pca2, kmeans_pd_scatter.pca3, c=kmeans_pd_scatter.prediction)\n",
    "legend1 = ax.legend(*img.legend_elements(num=6),\n",
    "                    loc=\"upper right\", title=\"Clusters\")\n",
    "ax.add_artist(legend1)\n",
    "fig"
   ]
  },
  {
   "cell_type": "markdown",
   "metadata": {},
   "source": [
    "## Latent Dirchlett Allocation(LDA) - Topic Modelling"
   ]
  },
  {
   "cell_type": "markdown",
   "metadata": {},
   "source": [
    "### Extracting the LDA model "
   ]
  },
  {
   "cell_type": "code",
   "execution_count": 42,
   "metadata": {},
   "outputs": [
    {
     "name": "stdout",
     "output_type": "stream",
     "text": [
      "+-----+--------------------+--------------------+\n",
      "|topic|         termIndices|         termWeights|\n",
      "+-----+--------------------+--------------------+\n",
      "|    0|[187, 66, 158, 16...|[0.12736324531075...|\n",
      "|    1|[11, 61, 103, 21,...|[0.04768861796895...|\n",
      "|    2|[4, 127, 104, 77,...|[0.04489169002948...|\n",
      "|    3|[4, 103, 11, 22, ...|[0.21218944289608...|\n",
      "|    4|[26, 28, 156, 67,...|[0.27917688712795...|\n",
      "|    5|[31, 4, 60, 247, ...|[0.03960944208882...|\n",
      "+-----+--------------------+--------------------+\n",
      "\n"
     ]
    }
   ],
   "source": [
    "lda_model = pipelineFit_1.stages[-1]\n",
    "lda_model.describeTopics(maxTermsPerTopic=8).show()"
   ]
  },
  {
   "cell_type": "code",
   "execution_count": 43,
   "metadata": {},
   "outputs": [],
   "source": [
    "terms_matrix=np.array(lda_model.describeTopics().rdd.map(lambda x: x['termIndices']).collect())"
   ]
  },
  {
   "cell_type": "code",
   "execution_count": 44,
   "metadata": {},
   "outputs": [],
   "source": [
    "vocabulary = pipelineFit_1.stages[2].vocabulary"
   ]
  },
  {
   "cell_type": "code",
   "execution_count": 45,
   "metadata": {},
   "outputs": [
    {
     "data": {
      "text/plain": [
       "array([['dogs', 'cov', 'mers', 'vaccine', 'mention', 'sars', 'r', 'p',\n",
       "        'cases', 'influenza'],\n",
       "       ['cells', 'mice', 'ifn', 'cell', 'expression', 'hiv', 'protein',\n",
       "        'proteins', 'anti', 'antibody'],\n",
       "       ['mention', 'sequences', 'sequence', 'pcr', 'rna', 'genome',\n",
       "        'strains', 'genes', 'rt', 'dna'],\n",
       "       ['mention', 'ifn', 'cells', 'protein', 'proteins', 'expression',\n",
       "        'mice', 'replication', 'cell', 'materials'],\n",
       "       ['t', 'n', 'il', 'm', 'h', 'd', 'r', 'q', 'mention', '0'],\n",
       "       ['patients', 'mention', 'health', 'children', 'influenza', 'risk',\n",
       "        'cases', 'age', 'public', 'patient']], dtype='<U13')"
      ]
     },
     "execution_count": 45,
     "metadata": {},
     "output_type": "execute_result"
    }
   ],
   "source": [
    "np.array(vocabulary)[terms_matrix]"
   ]
  },
  {
   "cell_type": "markdown",
   "metadata": {},
   "source": [
    "## Supervised Classification"
   ]
  },
  {
   "cell_type": "markdown",
   "metadata": {},
   "source": [
    "### Creating Labels for our topic model output"
   ]
  },
  {
   "cell_type": "code",
   "execution_count": 46,
   "metadata": {},
   "outputs": [],
   "source": [
    "Classification_df = kmeans_df.withColumn('Topic',\n",
    "                                        F.when(F.col(\"prediction\")==0,\"Vaccinations & Theraputics\")\\\n",
    "                                         .when(F.col(\"prediction\")==1,\"Antibodies Litrature\")\\\n",
    "                                         .when(F.col(\"prediction\")==2,\"Genomes\")\\\n",
    "                                         .when(F.col(\"prediction\")==3,\"Disease Structures\")\\\n",
    "                                         .when(F.col(\"prediction\")==4,\"Others\")\\\n",
    "                                         .when(F.col(\"prediction\")==5,\"Effects on public health\"))"
   ]
  },
  {
   "cell_type": "code",
   "execution_count": 47,
   "metadata": {},
   "outputs": [
    {
     "name": "stdout",
     "output_type": "stream",
     "text": [
      "root\n",
      " |-- paper_id: string (nullable = true)\n",
      " |-- body_text: string (nullable = true)\n",
      " |-- cord_uid: string (nullable = true)\n",
      " |-- sha: string (nullable = true)\n",
      " |-- source_x: string (nullable = true)\n",
      " |-- title: string (nullable = true)\n",
      " |-- doi: string (nullable = true)\n",
      " |-- pmcid: string (nullable = true)\n",
      " |-- pubmed_id: string (nullable = true)\n",
      " |-- license: string (nullable = true)\n",
      " |-- abstract: string (nullable = true)\n",
      " |-- publish_time: string (nullable = true)\n",
      " |-- authors: string (nullable = true)\n",
      " |-- journal: string (nullable = true)\n",
      " |-- Microsoft Academic Paper ID: string (nullable = true)\n",
      " |-- WHO #Covidence: string (nullable = true)\n",
      " |-- has_pdf_parse: string (nullable = true)\n",
      " |-- has_pmc_xml_parse: string (nullable = true)\n",
      " |-- full_text_file: string (nullable = true)\n",
      " |-- url: string (nullable = true)\n",
      " |-- abstract_word_count: integer (nullable = false)\n",
      " |-- body_word_count: integer (nullable = false)\n",
      " |-- body_text_tokenized: array (nullable = true)\n",
      " |    |-- element: string (containsNull = true)\n",
      " |-- filtered: array (nullable = true)\n",
      " |    |-- element: string (containsNull = true)\n",
      " |-- tf: vector (nullable = true)\n",
      " |-- features: double (nullable = false)\n",
      " |-- tfidf: vector (nullable = true)\n",
      " |-- centered_tfidf: vector (nullable = true)\n",
      " |-- PCA_Scores: vector (nullable = true)\n",
      " |-- norm_tfidf: vector (nullable = true)\n",
      " |-- prediction: integer (nullable = false)\n",
      " |-- lda_feat: vector (nullable = true)\n",
      " |-- Topic: string (nullable = true)\n",
      "\n"
     ]
    }
   ],
   "source": [
    "Classification_df.printSchema()"
   ]
  },
  {
   "cell_type": "markdown",
   "metadata": {},
   "source": [
    "### Creating train and test datasets "
   ]
  },
  {
   "cell_type": "code",
   "execution_count": 49,
   "metadata": {},
   "outputs": [],
   "source": [
    "#Defining schema of the dataset\n",
    "def generate_class_schema():\n",
    "    return StructType(\n",
    "        [\n",
    "            StructField(\"pca1\", FloatType()),\n",
    "            StructField(\"pca2\", FloatType()),\n",
    "            StructField(\"pca3\", FloatType()),\n",
    "            StructField(\"prediction\", IntegerType()),\n",
    "        ]\n",
    "    )"
   ]
  },
  {
   "cell_type": "code",
   "execution_count": 50,
   "metadata": {},
   "outputs": [
    {
     "name": "stdout",
     "output_type": "stream",
     "text": [
      "+----------+---------+----------+---------+\n",
      "|      pca1|     pca2|      pca3|ClusterNo|\n",
      "+----------+---------+----------+---------+\n",
      "| -3.412142|20.697002| -9.691759|        4|\n",
      "|-16.903866| 5675.063| -40.25595|        0|\n",
      "| -2.957218|16.342445| -46.41042|        1|\n",
      "|  -44.8746| 5389.236| 48.205017|        0|\n",
      "| 0.9273219|93.260376|-47.898407|        0|\n",
      "+----------+---------+----------+---------+\n",
      "only showing top 5 rows\n",
      "\n"
     ]
    }
   ],
   "source": [
    "#Creating a dataset for classification\n",
    "Classification_df=spark.createDataFrame(kmeans_pd_2,schema=generate_class_schema())\n",
    "Classification_df2=Classification_df.select('pca1','pca2','pca3',col(\"prediction\").alias(\"ClusterNo\"))\n",
    "Classification_df2.show(5)"
   ]
  },
  {
   "cell_type": "code",
   "execution_count": 51,
   "metadata": {},
   "outputs": [],
   "source": [
    "#Creating the train and test datasets\n",
    "train,test = Classification_df2.randomSplit([0.8,0.2],42)"
   ]
  },
  {
   "cell_type": "code",
   "execution_count": 112,
   "metadata": {},
   "outputs": [],
   "source": [
    "#Specifying the evaluator\n",
    "evaluator = MulticlassClassificationEvaluator(labelCol='ClusterNo',metricName=\"weightedRecall\")"
   ]
  },
  {
   "cell_type": "markdown",
   "metadata": {},
   "source": [
    "## Logistic Regression "
   ]
  },
  {
   "cell_type": "code",
   "execution_count": 99,
   "metadata": {},
   "outputs": [],
   "source": [
    "model1 = Pipeline(stages=[feature.VectorAssembler(inputCols=['pca1','pca2','pca3'], outputCol='features'),\n",
    "                 LogisticRegression(maxIter=100,labelCol='ClusterNo', featuresCol='features',elasticNetParam=0.1,family=\"multinomial\")])\n",
    "model1_fitted = model1.fit(train)"
   ]
  },
  {
   "cell_type": "markdown",
   "metadata": {},
   "source": [
    "#### Train Accuracy "
   ]
  },
  {
   "cell_type": "code",
   "execution_count": 113,
   "metadata": {},
   "outputs": [
    {
     "data": {
      "text/plain": [
       "0.4629577464788733"
      ]
     },
     "execution_count": 113,
     "metadata": {},
     "output_type": "execute_result"
    }
   ],
   "source": [
    "evaluator.evaluate(model1_fitted.transform(train))"
   ]
  },
  {
   "cell_type": "markdown",
   "metadata": {},
   "source": [
    "#### Test Accuracy "
   ]
  },
  {
   "cell_type": "code",
   "execution_count": 114,
   "metadata": {},
   "outputs": [
    {
     "data": {
      "text/plain": [
       "0.41953698475437606"
      ]
     },
     "execution_count": 114,
     "metadata": {},
     "output_type": "execute_result"
    }
   ],
   "source": [
    "evaluator.evaluate(model1_fitted.transform(test))"
   ]
  },
  {
   "cell_type": "markdown",
   "metadata": {},
   "source": [
    "## MultiLayerPercptron"
   ]
  },
  {
   "cell_type": "code",
   "execution_count": 88,
   "metadata": {},
   "outputs": [],
   "source": [
    "layers = [3,35,20,6]\n",
    "model2 = Pipeline(stages=[feature.VectorAssembler(inputCols=['pca1','pca2','pca3'], outputCol='features'),\n",
    "                          MultilayerPerceptronClassifier(layers=layers,labelCol='ClusterNo', featuresCol='features')])\n",
    "model2_fitted = model2.fit(train)"
   ]
  },
  {
   "cell_type": "markdown",
   "metadata": {},
   "source": [
    "#### Train Accuracy "
   ]
  },
  {
   "cell_type": "code",
   "execution_count": 115,
   "metadata": {},
   "outputs": [
    {
     "data": {
      "text/plain": [
       "0.5645070422535211"
      ]
     },
     "execution_count": 115,
     "metadata": {},
     "output_type": "execute_result"
    }
   ],
   "source": [
    "evaluator.evaluate(model2_fitted.transform(train))"
   ]
  },
  {
   "cell_type": "markdown",
   "metadata": {},
   "source": [
    "#### Test Accuracy "
   ]
  },
  {
   "cell_type": "code",
   "execution_count": 116,
   "metadata": {},
   "outputs": [
    {
     "data": {
      "text/plain": [
       "0.5431959345002824"
      ]
     },
     "execution_count": 116,
     "metadata": {},
     "output_type": "execute_result"
    }
   ],
   "source": [
    "evaluator.evaluate(model2_fitted.transform(test))"
   ]
  },
  {
   "cell_type": "markdown",
   "metadata": {},
   "source": [
    "## Decision Tree "
   ]
  },
  {
   "cell_type": "code",
   "execution_count": 70,
   "metadata": {},
   "outputs": [],
   "source": [
    "model3 = Pipeline(stages=[feature.VectorAssembler(inputCols=['pca1','pca2','pca3'], outputCol='features'),\n",
    "                          DecisionTreeClassifier(labelCol='ClusterNo', featuresCol='features')])\n",
    "\n",
    "model3_fitted = model3.fit(train)"
   ]
  },
  {
   "cell_type": "markdown",
   "metadata": {},
   "source": [
    "#### Train Accuracy "
   ]
  },
  {
   "cell_type": "code",
   "execution_count": 117,
   "metadata": {},
   "outputs": [
    {
     "data": {
      "text/plain": [
       "0.6046478873239436"
      ]
     },
     "execution_count": 117,
     "metadata": {},
     "output_type": "execute_result"
    }
   ],
   "source": [
    "evaluator.evaluate(model3_fitted.transform(train))"
   ]
  },
  {
   "cell_type": "markdown",
   "metadata": {},
   "source": [
    "#### Test Accuracy "
   ]
  },
  {
   "cell_type": "code",
   "execution_count": 118,
   "metadata": {},
   "outputs": [
    {
     "data": {
      "text/plain": [
       "0.5640880858272163"
      ]
     },
     "execution_count": 118,
     "metadata": {},
     "output_type": "execute_result"
    }
   ],
   "source": [
    "evaluator.evaluate(model3_fitted.transform(test))"
   ]
  },
  {
   "cell_type": "markdown",
   "metadata": {},
   "source": [
    "## Random Forest"
   ]
  },
  {
   "cell_type": "code",
   "execution_count": 94,
   "metadata": {},
   "outputs": [],
   "source": [
    "model4 = Pipeline(stages=[feature.VectorAssembler(inputCols=['pca1','pca2','pca3'], outputCol='features'),\n",
    "                          RandomForestClassifier(labelCol='ClusterNo', featuresCol='features',numTrees=150,maxDepth=10)])\n",
    "\n",
    "model4_fitted = model4.fit(train)"
   ]
  },
  {
   "cell_type": "markdown",
   "metadata": {},
   "source": [
    "#### Train Accuracy "
   ]
  },
  {
   "cell_type": "code",
   "execution_count": 119,
   "metadata": {},
   "outputs": [
    {
     "data": {
      "text/plain": [
       "0.7440845070422535"
      ]
     },
     "execution_count": 119,
     "metadata": {},
     "output_type": "execute_result"
    }
   ],
   "source": [
    "evaluator.evaluate(model4_fitted.transform(train))"
   ]
  },
  {
   "cell_type": "markdown",
   "metadata": {},
   "source": [
    "#### Test Accuracy "
   ]
  },
  {
   "cell_type": "code",
   "execution_count": 120,
   "metadata": {},
   "outputs": [
    {
     "data": {
      "text/plain": [
       "0.616600790513834"
      ]
     },
     "execution_count": 120,
     "metadata": {},
     "output_type": "execute_result"
    }
   ],
   "source": [
    "evaluator.evaluate(model4_fitted.transform(test))"
   ]
  },
  {
   "cell_type": "markdown",
   "metadata": {},
   "source": [
    "# Conclusion "
   ]
  },
  {
   "cell_type": "markdown",
   "metadata": {},
   "source": [
    "From our analysis we were able to sucessfully cluster the research papers based on the tasks mentioned in Kaggle challenge. In our proess of clustering - topic modelling - classification. \n",
    "\n",
    "We were able to sucessfully cluster the papers using the Kmeans algorithm with 6 clusters. \n",
    "\n",
    "Furthermore, we were able to get pretty accurate mapping in the resultant clusters for our topic modelling that identified latent relations between the text present in the papers.\n",
    "\n",
    "Finally, we were able to verify our PC components using the classification exercise where we were able to classify our papers accurately using the Random Forest algorithm which gave us close to 62% accuracy which can be considered as pretty decent number for this exercise"
   ]
  },
  {
   "cell_type": "markdown",
   "metadata": {},
   "source": [
    "# Appendix - For Reference Only"
   ]
  },
  {
   "cell_type": "markdown",
   "metadata": {},
   "source": [
    "Please note that the code in this section is for reference only. Do not run this section below this"
   ]
  },
  {
   "cell_type": "markdown",
   "metadata": {},
   "source": [
    "## 1. K-Means Elbow Graph "
   ]
  },
  {
   "cell_type": "code",
   "execution_count": null,
   "metadata": {},
   "outputs": [],
   "source": [
    "raise NotImplementedError()"
   ]
  },
  {
   "cell_type": "code",
   "execution_count": 128,
   "metadata": {},
   "outputs": [],
   "source": [
    "#kmeans\n",
    "cost = np.zeros(10)\n",
    "for k in range(2,10):\n",
    "    kmeans = KMeans().setK(k).setSeed(1).setFeaturesCol('norm_tfidf')\n",
    "    model = kmeans.fit(norm_df)\n",
    "    cost[k] = model.computeCost(norm_df)\n"
   ]
  },
  {
   "cell_type": "code",
   "execution_count": 129,
   "metadata": {},
   "outputs": [],
   "source": [
    "# Plot the cost\n",
    "df_cost = pd.DataFrame(cost[2:])\n",
    "df_cost.columns = [\"cost\"]\n",
    "new_col = [1,2,3,4,5,6,7,8]\n",
    "df_cost.insert(0, 'cluster', new_col)"
   ]
  },
  {
   "cell_type": "code",
   "execution_count": 130,
   "metadata": {},
   "outputs": [
    {
     "data": {
      "image/png": "[encoded data removed]",
      "text/plain": [
       "<Figure size 432x288 with 1 Axes>"
      ]
     },
     "metadata": {
      "needs_background": "light"
     },
     "output_type": "display_data"
    }
   ],
   "source": [
    "pl.plot(df_cost.cluster, df_cost.cost)\n",
    "pl.xlabel('Number of Clusters')\n",
    "pl.ylabel('Score')\n",
    "pl.title('Elbow Curve')\n",
    "pl.show()"
   ]
  },
  {
   "cell_type": "markdown",
   "metadata": {},
   "source": [
    "## 2. Modelling with 2 PCA components"
   ]
  },
  {
   "cell_type": "code",
   "execution_count": 278,
   "metadata": {},
   "outputs": [],
   "source": [
    "def pca_pred_df(df):\n",
    "    pca_1=[]\n",
    "    pca_2=[]\n",
    "    for i in range(len(kmeans_pd)):\n",
    "        x = df['PCA_Scores'][i][0]\n",
    "        y = df['PCA_Scores'][i][1]\n",
    "        prediction = df['prediction']\n",
    "        pca_1.append(x)\n",
    "        pca_2.append(y)\n",
    "    dict = {'pca1': pca_1, 'pca2': pca_2, 'prediction' : prediction}\n",
    "    final_df = pd.DataFrame(dict)\n",
    "    return final_df"
   ]
  },
  {
   "cell_type": "code",
   "execution_count": 312,
   "metadata": {},
   "outputs": [
    {
     "data": {
      "text/plain": [
       "[(-100.0, 500.0), (-100.0, 50.0)]"
      ]
     },
     "execution_count": 312,
     "metadata": {},
     "output_type": "execute_result"
    },
    {
     "data": {
      "image/png": "[encoded data removed]",
      "text/plain": [
       "<Figure size 432x288 with 1 Axes>"
      ]
     },
     "metadata": {
      "needs_background": "light"
     },
     "output_type": "display_data"
    }
   ],
   "source": [
    "sns.scatterplot(x=\"pca1\",y='pca2',hue='prediction',data=kmeans_pd_scatter).set(xlim=(-100,50),ylim=(-100,500))"
   ]
  },
  {
   "cell_type": "markdown",
   "metadata": {},
   "source": [
    "## 2. PCA Explained Variance Iterations "
   ]
  },
  {
   "cell_type": "code",
   "execution_count": null,
   "metadata": {},
   "outputs": [],
   "source": [
    "#pca\n",
    "\n",
    "pca=PCA(k=2, inputCol=\"centered_tfidf\", outputCol=\"PCA_Scores\")\n",
    "\n",
    "PCA_model = pca.fit(tfidf_df).transform(tfidf_df)\n",
    "\n",
    "##tfidf_df.explainedVariance # provides the variance of features,we had provided .95 variance level.\n",
    "## DenseVector([0.9244, 0.0456])\n",
    "\n",
    "PCA_df = PCA_model.transform(tfidf_df)\n",
    "PCA_df.select(\"paper_id\",\"tfidf\",\"PCA_Scores\").show(n=5)\n",
    "PCA_model.explainedVariance"
   ]
  },
  {
   "cell_type": "markdown",
   "metadata": {},
   "source": [
    "## 3. Supervised Learning (with 2 PCs) "
   ]
  },
  {
   "cell_type": "markdown",
   "metadata": {},
   "source": [
    "### 3.1 Logistic Regression"
   ]
  },
  {
   "cell_type": "markdown",
   "metadata": {},
   "source": [
    "##### Training Accuracy "
   ]
  },
  {
   "cell_type": "code",
   "execution_count": 385,
   "metadata": {},
   "outputs": [
    {
     "data": {
      "text/plain": [
       "0.3157041588835755"
      ]
     },
     "execution_count": 385,
     "metadata": {},
     "output_type": "execute_result"
    }
   ],
   "source": [
    "evaluator.evaluate(model1_fitted.transform(train))"
   ]
  },
  {
   "cell_type": "markdown",
   "metadata": {},
   "source": [
    "##### Test Accuracy "
   ]
  },
  {
   "cell_type": "code",
   "execution_count": 374,
   "metadata": {},
   "outputs": [
    {
     "data": {
      "text/plain": [
       "0.28069481637321425"
      ]
     },
     "execution_count": 374,
     "metadata": {},
     "output_type": "execute_result"
    }
   ],
   "source": [
    "evaluator.evaluate(model1_fitted.transform(test))"
   ]
  },
  {
   "cell_type": "markdown",
   "metadata": {},
   "source": [
    "### 3.2  Decision Tree"
   ]
  },
  {
   "cell_type": "markdown",
   "metadata": {},
   "source": [
    "##### Training Accuracy "
   ]
  },
  {
   "cell_type": "code",
   "execution_count": 386,
   "metadata": {},
   "outputs": [
    {
     "data": {
      "text/plain": [
       "0.5642372039022637"
      ]
     },
     "execution_count": 386,
     "metadata": {},
     "output_type": "execute_result"
    }
   ],
   "source": [
    "evaluator.evaluate(model2_fitted.transform(train))"
   ]
  },
  {
   "cell_type": "markdown",
   "metadata": {},
   "source": [
    "##### Test Accuracy "
   ]
  },
  {
   "cell_type": "code",
   "execution_count": 323,
   "metadata": {},
   "outputs": [
    {
     "data": {
      "text/plain": [
       "0.5321334431546968"
      ]
     },
     "execution_count": 323,
     "metadata": {},
     "output_type": "execute_result"
    }
   ],
   "source": [
    "evaluator.evaluate(model2_fitted.transform(test))"
   ]
  },
  {
   "cell_type": "markdown",
   "metadata": {},
   "source": [
    "### 3.3 Random Forest "
   ]
  },
  {
   "cell_type": "markdown",
   "metadata": {},
   "source": [
    "##### Training Accuracy "
   ]
  },
  {
   "cell_type": "code",
   "execution_count": 387,
   "metadata": {},
   "outputs": [
    {
     "data": {
      "text/plain": [
       "0.5938086629150545"
      ]
     },
     "execution_count": 387,
     "metadata": {},
     "output_type": "execute_result"
    }
   ],
   "source": [
    "evaluator.evaluate(model3_fitted.transform(train))"
   ]
  },
  {
   "cell_type": "markdown",
   "metadata": {},
   "source": [
    "##### Test Accuracy "
   ]
  },
  {
   "cell_type": "code",
   "execution_count": 351,
   "metadata": {},
   "outputs": [
    {
     "data": {
      "text/plain": [
       "0.5498105994002982"
      ]
     },
     "execution_count": 351,
     "metadata": {},
     "output_type": "execute_result"
    }
   ],
   "source": [
    "evaluator.evaluate(model3_fitted.transform(test))"
   ]
  },
  {
   "cell_type": "markdown",
   "metadata": {},
   "source": [
    "### 3.4 Multi Layer Perceptron "
   ]
  },
  {
   "cell_type": "markdown",
   "metadata": {},
   "source": [
    "##### Training Accuracy "
   ]
  },
  {
   "cell_type": "code",
   "execution_count": 388,
   "metadata": {},
   "outputs": [
    {
     "data": {
      "text/plain": [
       "0.31306567237831795"
      ]
     },
     "execution_count": 388,
     "metadata": {},
     "output_type": "execute_result"
    }
   ],
   "source": [
    "evaluator.evaluate(model4_fitted.transform(train))"
   ]
  },
  {
   "cell_type": "markdown",
   "metadata": {},
   "source": [
    "##### Test Accuracy "
   ]
  },
  {
   "cell_type": "code",
   "execution_count": 384,
   "metadata": {},
   "outputs": [
    {
     "data": {
      "text/plain": [
       "0.27582083032706867"
      ]
     },
     "execution_count": 384,
     "metadata": {},
     "output_type": "execute_result"
    }
   ],
   "source": [
    "evaluator.evaluate(model4_fitted.transform(test))"
   ]
  }
 ],
 "metadata": {
  "kernelspec": {
   "display_name": "Python 3",
   "language": "python",
   "name": "python3"
  },
  "language_info": {
   "codemirror_mode": {
    "name": "ipython",
    "version": 3
   },
   "file_extension": ".py",
   "mimetype": "text/x-python",
   "name": "python",
   "nbconvert_exporter": "python",
   "pygments_lexer": "ipython3",
   "version": "3.7.3"
  },
  "name": "IST-718_Project_04202020",
  "notebookId": 137992918140347
 },
 "nbformat": 4,
 "nbformat_minor": 1
}
